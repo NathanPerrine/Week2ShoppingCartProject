{
 "cells": [
  {
   "cell_type": "code",
   "execution_count": 51,
   "metadata": {},
   "outputs": [],
   "source": [
    "def add_to_cart():\n",
    "    item = input(\"What are you adding to the cart: \").title()\n",
    "    \n",
    "    # find if already in cart\n",
    "    for cart_item in shopping_cart.keys():\n",
    "        # item in cart\n",
    "        if cart_item == item:\n",
    "            print(\"Already in cart\")\n",
    "\n",
    "            quant = input(\"How many would you like to add? \")\n",
    "            shopping_cart[item]['Quantity'] += int(quant)\n",
    "\n",
    "            break\n",
    "        # item not in cart\n",
    "        else:   \n",
    "            price = input(\"Price: \")\n",
    "            quant = input(\"How many: \")\n",
    "\n",
    "\n",
    "\n",
    "            shopping_cart[item] = item\n",
    "            cart_item = {'Item' : item, 'Price' : price, 'Quantity' : quant}\n",
    "            shopping_cart[item] = cart_item\n"
   ]
  },
  {
   "cell_type": "code",
   "execution_count": 118,
   "metadata": {},
   "outputs": [],
   "source": [
    "def remove_from_cart():\n",
    "    remove_cart = input(\"What would you like to remove from your cart: \").title()\n",
    "\n",
    "    if remove_cart in shopping_cart.keys():\n",
    "        remove_quant = input(\"How many would you like to remove? (#/all)\").strip()\n",
    "\n",
    "        try:\n",
    "\n",
    "            if remove_quant == 'all':\n",
    "                del shopping_cart[remove_cart]\n",
    "        \n",
    "            elif remove_quant.isdigit():\n",
    "                shopping_cart[remove_cart]['Quantity'] -= int(remove_quant)\n",
    "            \n",
    "            else:\n",
    "                print(\"Please enter either 'all' or a numeric value.\")\n",
    "        \n",
    "        except:\n",
    "            pass\n",
    "    else:\n",
    "        print(\"Item not in cart.\")\n"
   ]
  },
  {
   "cell_type": "code",
   "execution_count": 121,
   "metadata": {},
   "outputs": [],
   "source": [
    "def list_cart():\n",
    "    if len(shopping_cart) > 0:\n",
    "        total = 0\n",
    "        for item, values in shopping_cart.items():\n",
    "            # print(item, values)\n",
    "            print(\"----\")\n",
    "            print(item)\n",
    "            for k,v  in values.items():\n",
    "                if k == 'Price':\n",
    "                    total += v\n",
    "                    print(f\"\\t{k}: ${v:,.2f}\")\n",
    "                else:\n",
    "                    print(f\"\\t{k}: {v}\")\n",
    "\n",
    "        print(\"----\")\n",
    "        print(f\"Total: {total:,.2f}\")\n",
    "    else:\n",
    "        print(\"Your cart is empty. Consider adding some items to it!\")"
   ]
  },
  {
   "cell_type": "code",
   "execution_count": 18,
   "metadata": {},
   "outputs": [],
   "source": [
    "def clear_cart():\n",
    "    pass"
   ]
  },
  {
   "cell_type": "code",
   "execution_count": 48,
   "metadata": {},
   "outputs": [],
   "source": [
    "def main():\n",
    "\n",
    "    print(\"Thank you for shopping at BobMart!\")\n",
    "\n",
    "    while True:\n",
    "        user_input = input(\"What would you like to do? (Add/Remove/List/Clear/Quit\").lower()\n",
    "\n",
    "        if user_input == \"add\":\n",
    "            add_to_cart()\n",
    "        elif user_input == \"remove\":\n",
    "            remove_from_cart()\n",
    "        elif user_input == \"list\":\n",
    "            list_cart()\n",
    "        elif user_input == \"clear\":\n",
    "            clear_cart()\n",
    "        elif user_input == \"quit\":\n",
    "            break\n",
    "        else:\n",
    "            print(\"Unknown input, please try again.\")\n",
    "            continue"
   ]
  },
  {
   "cell_type": "code",
   "execution_count": 122,
   "metadata": {},
   "outputs": [],
   "source": [
    "shopping_cart = {}\n"
   ]
  },
  {
   "cell_type": "code",
   "execution_count": 124,
   "metadata": {},
   "outputs": [],
   "source": [
    "shopping_cart = {'Apples': {'Price': 1234560.5, 'Quantity': 2},\n",
    "                'Bananas': {'Price': .27, 'Quantity': 4}\n",
    "}"
   ]
  },
  {
   "cell_type": "code",
   "execution_count": 115,
   "metadata": {},
   "outputs": [
    {
     "name": "stdout",
     "output_type": "stream",
     "text": [
      "{'Apples': {'Price': 1234560.5, 'Quantity': 2}, 'Bananas': {'Price': 0.27, 'Quantity': 4}}\n"
     ]
    }
   ],
   "source": [
    "print(shopping_cart)"
   ]
  },
  {
   "cell_type": "code",
   "execution_count": 54,
   "metadata": {},
   "outputs": [
    {
     "name": "stdout",
     "output_type": "stream",
     "text": [
      "Thank you for shopping at BobMart!\n",
      "Already in cart\n"
     ]
    }
   ],
   "source": [
    "main()"
   ]
  },
  {
   "cell_type": "code",
   "execution_count": null,
   "metadata": {},
   "outputs": [],
   "source": [
    "add_to_cart()"
   ]
  },
  {
   "cell_type": "code",
   "execution_count": 116,
   "metadata": {},
   "outputs": [],
   "source": [
    "remove_from_cart()"
   ]
  },
  {
   "cell_type": "code",
   "execution_count": 125,
   "metadata": {},
   "outputs": [
    {
     "name": "stdout",
     "output_type": "stream",
     "text": [
      "----\n",
      "Apples\n",
      "\tPrice: $1,234,560.50\n",
      "\tQuantity: 2\n",
      "----\n",
      "Bananas\n",
      "\tPrice: $0.27\n",
      "\tQuantity: 4\n",
      "----\n",
      "Total: 1,234,560.77\n"
     ]
    }
   ],
   "source": [
    "list_cart()"
   ]
  },
  {
   "cell_type": "code",
   "execution_count": null,
   "metadata": {},
   "outputs": [],
   "source": []
  }
 ],
 "metadata": {
  "interpreter": {
   "hash": "16dd1f0e6febe29089962fb2487a942d8d2b9927ae6d9b119e77798fd68476cf"
  },
  "kernelspec": {
   "display_name": "Python 3.9.10 64-bit",
   "language": "python",
   "name": "python3"
  },
  "language_info": {
   "codemirror_mode": {
    "name": "ipython",
    "version": 3
   },
   "file_extension": ".py",
   "mimetype": "text/x-python",
   "name": "python",
   "nbconvert_exporter": "python",
   "pygments_lexer": "ipython3",
   "version": "3.9.10"
  },
  "orig_nbformat": 4
 },
 "nbformat": 4,
 "nbformat_minor": 2
}
