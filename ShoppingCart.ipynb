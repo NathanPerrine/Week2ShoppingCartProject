{
 "cells": [
  {
   "cell_type": "code",
   "execution_count": 1,
   "metadata": {},
   "outputs": [],
   "source": [
    "def add_to_cart():\n",
    "    while True:\n",
    "\n",
    "        item = input(\"What are you adding to the cart: \").title()\n",
    "\n",
    "        # find if already in cart\n",
    "        for cart_item in shopping_cart.keys():\n",
    "            # item in cart\n",
    "            if cart_item == item:\n",
    "                print(\"Already in cart\")\n",
    "\n",
    "                quant = input(\"How many would you like to add? \")\n",
    "                shopping_cart[item]['Quantity'] += int(quant)\n",
    "\n",
    "                break\n",
    "            # item not in cart\n",
    "        else:   \n",
    "            try:\n",
    "                price = float(input(\"Price: \"))\n",
    "                quant = float(input(\"How many: \"))\n",
    "            except:\n",
    "                print(\"Make sure you're using digits for price and quantity.\")\n",
    "                \n",
    "            shopping_cart[item] = item\n",
    "            cart_item = {'Item' : item, 'Price' : price, 'Quantity' : quant}\n",
    "            shopping_cart[item] = cart_item\n",
    "        \n",
    "        leave = input(\"Would you like to add another item? (Y/N) \").lower()\n",
    "        if leave == 'y':\n",
    "            continue\n",
    "        else:\n",
    "            break\n"
   ]
  },
  {
   "cell_type": "code",
   "execution_count": 2,
   "metadata": {},
   "outputs": [],
   "source": [
    "def remove_from_cart():\n",
    "    if len(shopping_cart) > 0:\n",
    "        remove_cart = input(\"What would you like to remove from your cart: \").title()\n",
    "\n",
    "        if remove_cart in shopping_cart.keys():\n",
    "            remove_quant = input(\"How many would you like to remove? (#/all) \").strip()\n",
    "\n",
    "            try:\n",
    "                if remove_quant in {'all', 'All', \"ALL\"}:\n",
    "                    del shopping_cart[remove_cart]\n",
    "            \n",
    "                elif remove_quant.isdigit():\n",
    "                    #Test quant against users\n",
    "                    if shopping_cart[remove_cart]['Quantity'] <= int(remove_quant):\n",
    "                        remove_quant = input(f\"You don't have that many {remove_cart} in the cart, would you like to remove the item from your shopping cart? (Y/N) \").lower()\n",
    "                        if remove_quant == 'y':\n",
    "                            del shopping_cart[remove_cart]\n",
    "                        else:\n",
    "                            pass\n",
    "    \n",
    "                    else:\n",
    "                        shopping_cart[remove_cart]['Quantity'] -= int(remove_quant)\n",
    "                \n",
    "                else:\n",
    "                    print(\"Please enter either 'all' or a numeric value.\")\n",
    "            \n",
    "            except:\n",
    "                pass\n",
    "        else:\n",
    "            print(\"Item not in cart.\")\n",
    "    else:\n",
    "        print(\"Your cart is empty. Consider adding some items to it!\")\n"
   ]
  },
  {
   "cell_type": "code",
   "execution_count": 11,
   "metadata": {},
   "outputs": [],
   "source": [
    "def list_cart():\n",
    "    if len(shopping_cart) > 0:\n",
    "        total = 0\n",
    "        for item, values in shopping_cart.items():\n",
    "            # print(item, values)\n",
    "            print(\"----\")\n",
    "            print(item)\n",
    "            for k,v  in values.items():\n",
    "                if k == 'Price':\n",
    "                    total += v * shopping_cart[item]['Quantity']\n",
    "                    print(f\"\\t{k}: ${v:,.2f}\")\n",
    "                else:\n",
    "                    print(f\"\\t{k}: {v}\")\n",
    "\n",
    "        print(\"----\")\n",
    "        print(f\"Total: ${total:,.2f}\")\n",
    "    else:\n",
    "        print(\"Your cart is empty. Consider adding some items to it!\")"
   ]
  },
  {
   "cell_type": "code",
   "execution_count": 4,
   "metadata": {},
   "outputs": [],
   "source": [
    "def clear_cart():\n",
    "    if len(shopping_cart) > 0:\n",
    "        clear_input = input(\"Are you sure you want to empty your cart? (Y/N) \").lower()\n",
    "        if clear_input == 'y':\n",
    "            shopping_cart.clear()\n",
    "            print(\"Your shopping cart is now empty.\")\n",
    "    else:\n",
    "        print(\"Shopping cart is already empty.\")"
   ]
  },
  {
   "cell_type": "code",
   "execution_count": 5,
   "metadata": {},
   "outputs": [],
   "source": [
    "def reprice():\n",
    "    reprice_item = input(\"What would you like to reprice? \").title()\n",
    "    if reprice_item in shopping_cart.keys():\n",
    "        try:\n",
    "            new_price = float(input(\"New Price: \"))\n",
    "            shopping_cart[reprice_item]['Price'] = new_price\n",
    "        except:\n",
    "            print(\"Prices are digits only.\")\n",
    "    else:\n",
    "        print(\"not here\")\n",
    "        "
   ]
  },
  {
   "cell_type": "code",
   "execution_count": 6,
   "metadata": {},
   "outputs": [],
   "source": [
    "def main():\n",
    "    print(\"Thank you for shopping at BobMart!\")\n",
    "\n",
    "    while True:\n",
    "        user_input = input(\"What would you like to do? (Add/Remove/List/Clear/Reprice/Quit) \").lower()\n",
    "\n",
    "        if user_input == \"add\":\n",
    "            add_to_cart()\n",
    "        elif user_input == \"remove\":\n",
    "            remove_from_cart()\n",
    "        elif user_input == \"list\":\n",
    "            list_cart()\n",
    "        elif user_input == \"clear\":\n",
    "            clear_cart()\n",
    "        elif user_input == 'reprice':\n",
    "            reprice()\n",
    "        elif user_input == \"quit\":\n",
    "            break\n",
    "        else:\n",
    "            print(\"Unknown input, please try again.\")\n",
    "            continue"
   ]
  },
  {
   "cell_type": "code",
   "execution_count": 13,
   "metadata": {},
   "outputs": [
    {
     "name": "stdout",
     "output_type": "stream",
     "text": [
      "What are you adding to the cart: bread\n",
      "Price: 1.34\n",
      "How many: 1\n",
      "Would you like to add another item? (Y/N)y\n",
      "What are you adding to the cart: apples\n",
      "Already in cart\n",
      "How many would you like to add? 10\n",
      "Would you like to add another item? (Y/N)y\n",
      "What are you adding to the cart: Diet Coke\n",
      "Price: 1.66\n",
      "How many: 3\n",
      "Would you like to add another item? (Y/N)n\n"
     ]
    }
   ],
   "source": [
    "#Use to access add_to_cart directly\n",
    "add_to_cart()"
   ]
  },
  {
   "cell_type": "code",
   "execution_count": 23,
   "metadata": {},
   "outputs": [
    {
     "name": "stdout",
     "output_type": "stream",
     "text": [
      "Are you sure you want to empty your cart? (Y/N) n\n"
     ]
    }
   ],
   "source": [
    "# Use to access clear_cart directly\n",
    "clear_cart()\n"
   ]
  },
  {
   "cell_type": "code",
   "execution_count": null,
   "metadata": {},
   "outputs": [],
   "source": [
    "#Use to access remove_from_cart directly\n",
    "remove_from_cart()"
   ]
  },
  {
   "cell_type": "code",
   "execution_count": 12,
   "metadata": {},
   "outputs": [
    {
     "name": "stdout",
     "output_type": "stream",
     "text": [
      "----\n",
      "Bananas\n",
      "\tItem: Bananas\n",
      "\tPrice: $0.27\n",
      "\tQuantity: 4.0\n",
      "----\n",
      "Bread\n",
      "\tItem: Bread\n",
      "\tPrice: $1.34\n",
      "\tQuantity: 1.0\n",
      "----\n",
      "Apples\n",
      "\tItem: Apples\n",
      "\tPrice: $0.50\n",
      "\tQuantity: 4.0\n",
      "----\n",
      "Total: $4.42\n"
     ]
    }
   ],
   "source": [
    "# Use to access list_cart directly\n",
    "list_cart()"
   ]
  },
  {
   "cell_type": "code",
   "execution_count": 15,
   "metadata": {},
   "outputs": [
    {
     "name": "stdout",
     "output_type": "stream",
     "text": [
      "What would you like to reprice? apples\n",
      "New Price: 0.50\n"
     ]
    }
   ],
   "source": [
    "# Use to access reprice directly\n",
    "reprice()"
   ]
  },
  {
   "cell_type": "code",
   "execution_count": 14,
   "metadata": {},
   "outputs": [],
   "source": [
    "# init empty shopping cart\n",
    "shopping_cart = {}"
   ]
  },
  {
   "cell_type": "code",
   "execution_count": 10,
   "metadata": {},
   "outputs": [],
   "source": [
    "# Use to generate a filled shopping cart.\n",
    "shopping_cart = {'Apples': {'Price': 1234560.5, 'Quantity': 2},\n",
    "                'Bananas': {'Price': .27, 'Quantity': 4}\n",
    "}"
   ]
  },
  {
   "cell_type": "code",
   "execution_count": 15,
   "metadata": {},
   "outputs": [
    {
     "name": "stdout",
     "output_type": "stream",
     "text": [
      "Thank you for shopping at BobMart!\n",
      "What would you like to do? (Add/Remove/List/Clear/Reprice/Quit list\n",
      "Your cart is empty. Consider adding some items to it!\n",
      "What would you like to do? (Add/Remove/List/Clear/Reprice/Quit add\n",
      "What are you adding to the cart: bread\n",
      "Price: 1.23\n",
      "How many: 1\n",
      "Would you like to add another item? (Y/N)y\n",
      "What are you adding to the cart: apples\n",
      "Price: 50\n",
      "How many: 4\n",
      "Would you like to add another item? (Y/N)n\n",
      "What would you like to do? (Add/Remove/List/Clear/Reprice/Quit list\n",
      "----\n",
      "Bread\n",
      "\tItem: Bread\n",
      "\tPrice: $1.23\n",
      "\tQuantity: 1.0\n",
      "----\n",
      "Apples\n",
      "\tItem: Apples\n",
      "\tPrice: $50.00\n",
      "\tQuantity: 4.0\n",
      "----\n",
      "Total: $201.23\n",
      "What would you like to do? (Add/Remove/List/Clear/Reprice/Quit reprice\n",
      "What would you like to reprice? apples\n",
      "New Price: 0.50\n",
      "What would you like to do? (Add/Remove/List/Clear/Reprice/Quit list\n",
      "----\n",
      "Bread\n",
      "\tItem: Bread\n",
      "\tPrice: $1.23\n",
      "\tQuantity: 1.0\n",
      "----\n",
      "Apples\n",
      "\tItem: Apples\n",
      "\tPrice: $0.50\n",
      "\tQuantity: 4.0\n",
      "----\n",
      "Total: $3.23\n",
      "What would you like to do? (Add/Remove/List/Clear/Reprice/Quit add\n",
      "What are you adding to the cart: diet coke\n",
      "Price: 1.66\n",
      "How many: 3\n",
      "Would you like to add another item? (Y/N)n\n",
      "What would you like to do? (Add/Remove/List/Clear/Reprice/Quit list\n",
      "----\n",
      "Bread\n",
      "\tItem: Bread\n",
      "\tPrice: $1.23\n",
      "\tQuantity: 1.0\n",
      "----\n",
      "Apples\n",
      "\tItem: Apples\n",
      "\tPrice: $0.50\n",
      "\tQuantity: 4.0\n",
      "----\n",
      "Diet Coke\n",
      "\tItem: Diet Coke\n",
      "\tPrice: $1.66\n",
      "\tQuantity: 3.0\n",
      "----\n",
      "Total: $8.21\n",
      "What would you like to do? (Add/Remove/List/Clear/Reprice/Quit clear\n",
      "Are you sure you want to empty your cart? (Y/N) y\n",
      "Your shopping cart is now empty.\n",
      "What would you like to do? (Add/Remove/List/Clear/Reprice/Quit list\n",
      "Your cart is empty. Consider adding some items to it!\n",
      "What would you like to do? (Add/Remove/List/Clear/Reprice/Quit quit\n"
     ]
    }
   ],
   "source": [
    "# Run the main program\n",
    "main()"
   ]
  }
 ],
 "metadata": {
  "interpreter": {
   "hash": "16dd1f0e6febe29089962fb2487a942d8d2b9927ae6d9b119e77798fd68476cf"
  },
  "kernelspec": {
   "display_name": "Python 3 (ipykernel)",
   "language": "python",
   "name": "python3"
  },
  "language_info": {
   "codemirror_mode": {
    "name": "ipython",
    "version": 3
   },
   "file_extension": ".py",
   "mimetype": "text/x-python",
   "name": "python",
   "nbconvert_exporter": "python",
   "pygments_lexer": "ipython3",
   "version": "3.9.7"
  }
 },
 "nbformat": 4,
 "nbformat_minor": 2
}
